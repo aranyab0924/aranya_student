{
 "cells": [
  {
   "cell_type": "markdown",
   "id": "40894dbd",
   "metadata": {},
   "source": [
    "---\n",
    "layout: post\n",
    "toc: true\n",
    "title: Introduction to Algorithms, Programming, and Compilers 1_9 HW\n",
    "permalink: /csa/unit_01/1_9hw\n",
    "categories: [Java]\n",
    "---\n"
   ]
  },
  {
   "cell_type": "markdown",
   "id": "ecd6fd2c",
   "metadata": {},
   "source": [
    "# Unit 1.9 — Method Signatures & Overloading\n",
    "\n",
    "This notebook mirrors your screenshots with **real Java** cells for all Popcorn Hacks, MCQs, short answers, coding tasks, and FRQs.\n"
   ]
  },
  {
   "cell_type": "markdown",
   "id": "1c0ce731",
   "metadata": {},
   "source": [
    "## Popcorn Hack: Write and test `max` overloads"
   ]
  },
  {
   "cell_type": "code",
   "execution_count": null,
   "id": "38dff095",
   "metadata": {
    "language": "java"
   },
   "outputs": [],
   "source": [
    "public class PopcornMax {\n",
    "    public static int max(int a, int b) { return (a >= b) ? a : b; }\n",
    "    public static double max(double a, double b) { return (a >= b) ? a : b; }\n",
    "    public static void main(String[] args) {\n",
    "        System.out.println(max(3, 9));      // 9\n",
    "        System.out.println(max(-2, -7));    // -2\n",
    "        System.out.println(max(3.5, 2.9));  // 3.5\n",
    "        System.out.println(max(2, 2.0));    // 2.0\n",
    "    }\n",
    "}"
   ]
  },
  {
   "cell_type": "markdown",
   "id": "af0b49b6",
   "metadata": {},
   "source": [
    "## Popcorn Hack: Overload `print` for `int` and `String`"
   ]
  },
  {
   "cell_type": "code",
   "execution_count": null,
   "id": "37b372ca",
   "metadata": {
    "language": "java"
   },
   "outputs": [],
   "source": [
    "public class PopcornPrint {\n",
    "    public static void print(int n) { System.out.println(\"int:\" + n); }\n",
    "    public static void print(String s) { System.out.println(\"str:\" + s); }\n",
    "    public static void main(String[] args) {\n",
    "        print(42);\n",
    "        print(\"hello\");\n",
    "        print('A' + \"!\");\n",
    "    }\n",
    "}"
   ]
  },
  {
   "cell_type": "markdown",
   "id": "cb960de4",
   "metadata": {},
   "source": [
    "## FRQ-style runnable templates"
   ]
  },
  {
   "cell_type": "code",
   "execution_count": null,
   "id": "2d058f16",
   "metadata": {
    "language": "java"
   },
   "outputs": [],
   "source": [
    "public class FrqTemplates {\n",
    "    public static int sumRange(int start, int end) {\n",
    "        if (start > end) return 0;\n",
    "        int sum = 0; for (int i = start; i <= end; i++) sum += i; return sum;\n",
    "    }\n",
    "    public static double area(double radius) { return Math.PI * radius * radius; }\n",
    "    public static int area(int width, int height) { return width * height; }\n",
    "    public static String formatScore(int earned, int total) { return earned + \"/\" + total; }\n",
    "    public static String formatScore(double percent) { return String.format(\"%.1f%%\", percent); }\n",
    "    public static void main(String[] args) {\n",
    "        System.out.println(sumRange(1,5));\n",
    "        System.out.println(area(3.0));\n",
    "        System.out.println(area(3,4));\n",
    "        System.out.println(formatScore(45,50));\n",
    "        System.out.println(formatScore(92.35));\n",
    "    }\n",
    "}"
   ]
  },
  {
   "cell_type": "markdown",
   "id": "a45adebc",
   "metadata": {},
   "source": [
    "## MCQs (with answers)\n",
    "\n",
    "1) Valid overload pair → **C** `int f(int a)` and `double f(double a)`  \n",
    "2) AP CSA method signature → **B** `max(int, int)`  \n",
    "3) With `p(int)` and `p(double)`: `p(5); p(5.0);` → **A** prints `int, double`  \n",
    "4) Ambiguity with `h(long)` and `h(float)` → **B** `h(5.0)` (no matching overload; compile error)  \n",
    "5) TRUE: **D** Overloading requires different parameter lists.\n"
   ]
  },
  {
   "cell_type": "markdown",
   "id": "fabaaac4",
   "metadata": {},
   "source": [
    "## Short Answers\n",
    "- `int sum(int,int)` and `double sum(int,int)` cannot coexist: same signature; return type alone doesn't overload.\n",
    "- **Parameters** are placeholders in the method declaration; **arguments** are the actual values you pass in calls.\n"
   ]
  },
  {
   "cell_type": "markdown",
   "id": "7974a0cd",
   "metadata": {},
   "source": [
    "## Coding Tasks"
   ]
  },
  {
   "cell_type": "code",
   "execution_count": null,
   "id": "ff285469",
   "metadata": {
    "language": "java"
   },
   "outputs": [],
   "source": [
    "public class OverloadPractice {\n",
    "    public static int abs(int x){ return x<0?-x:x; }\n",
    "    public static double abs(double x){ return x<0?-x:x; }\n",
    "    public static long abs(long x){ return x<0?-x:x; }\n",
    "    public static String concat(String a, String b){ return a+b; }\n",
    "    public static String concat(String a, int n){\n",
    "        StringBuilder sb=new StringBuilder();\n",
    "        for(int i=0;i<n;i++) sb.append(a);\n",
    "        return sb.toString();\n",
    "    }\n",
    "    static void show(int x){ System.out.println(\"int\"); }\n",
    "    static void show(double x){ System.out.println(\"double\"); }\n",
    "    static void show(long x){ System.out.println(\"long\"); }\n",
    "    public static void main(String[] args){\n",
    "        System.out.println(abs(-3));\n",
    "        System.out.println(abs(-3.5));\n",
    "        System.out.println(abs(-7L));\n",
    "        System.out.println(concat(\"hi\",\"there\"));\n",
    "        System.out.println(concat(\"ha\",3));\n",
    "        show(7);\n",
    "        show(7L);\n",
    "        show(7.0);\n",
    "    }\n",
    "}"
   ]
  },
  {
   "cell_type": "markdown",
   "id": "196902e2",
   "metadata": {},
   "source": [
    "## FRQ-style"
   ]
  },
  {
   "cell_type": "code",
   "execution_count": null,
   "id": "5ce621a2",
   "metadata": {
    "language": "java"
   },
   "outputs": [],
   "source": [
    "public class FrqOverloads {\n",
    "    public static int indexOf(char target, String s){\n",
    "        if(s==null) return -1;\n",
    "        for(int i=0;i<s.length();i++) if(s.charAt(i)==target) return i;\n",
    "        return -1;\n",
    "    }\n",
    "    public static int indexOf(String target, String s){\n",
    "        if(s==null || target==null) return -1;\n",
    "        int n=s.length(), m=target.length();\n",
    "        if(m==0) return 0;\n",
    "        if(m>n) return -1;\n",
    "        for(int i=0;i<=n-m;i++){\n",
    "            int j=0;\n",
    "            while(j<m && s.charAt(i+j)==target.charAt(j)) j++;\n",
    "            if(j==m) return i;\n",
    "        }\n",
    "        return -1;\n",
    "    }\n",
    "    public static int clamp(int value,int low,int high){\n",
    "        if(low>high){ int t=low; low=high; high=t; }\n",
    "        if(value<low) return low;\n",
    "        if(value>high) return high;\n",
    "        return value;\n",
    "    }\n",
    "    public static double clamp(double value,double low,double high){\n",
    "        if(low>high){ double t=low; low=high; high=t; }\n",
    "        if(value<low) return low;\n",
    "        if(value>high) return high;\n",
    "        return value;\n",
    "    }\n",
    "    public static void main(String[] args){\n",
    "        System.out.println(indexOf('a',\"banana\"));   // 1\n",
    "        System.out.println(indexOf(\"ana\",\"banana\")); // 1\n",
    "        System.out.println(clamp(15,0,10));          // 10\n",
    "        System.out.println(clamp(5.5,0.0,10.0));     // 5.5\n",
    "        System.out.println(clamp(5,10,0));           // 5\n",
    "    }\n",
    "}"
   ]
  }
 ],
 "metadata": {},
 "nbformat": 4,
 "nbformat_minor": 5
}
