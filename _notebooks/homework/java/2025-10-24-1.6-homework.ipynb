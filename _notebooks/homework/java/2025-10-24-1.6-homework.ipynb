{
 "cells": [
  {
   "cell_type": "markdown",
   "id": "b4b95418",
   "metadata": {},
   "source": [
    "---\n",
    "layout: post\n",
    "toc: true\n",
    "title: Introduction to Algorithms, Programming, and Compilers 1_6 HW\n",
    "permalink: /csa/unit_01/1_6hw\n",
    "categories: [Java]\n",
    "---\n"
   ]
  },
  {
   "cell_type": "markdown",
   "id": "93fc83ed",
   "metadata": {},
   "source": [
    "# Unit 1.6 — Compound Assignment Operators\n",
    "\n",
    "This notebook mirrors your class format using **real Java code cells**.\n"
   ]
  },
  {
   "cell_type": "markdown",
   "id": "e388dd60",
   "metadata": {},
   "source": [
    "## Popcorn Hack #1: Refactor with Compound Assignments\n",
    "\n",
    "Transform this beginner code into more advanced code using compound assignment operators.\n"
   ]
  },
  {
   "cell_type": "code",
   "execution_count": null,
   "id": "99d17441",
   "metadata": {
    "language": "java"
   },
   "outputs": [],
   "source": [
    "// Starter (for reference)\n",
    "int playerScore = 1000;\n",
    "int playerHealth = 100;\n",
    "int enemiesDefeated = 0;\n",
    "\n",
    "// Player defeats an enemy worth 250 points\n",
    "playerScore = playerScore + 250;\n",
    "\n",
    "// Player takes 15 damage\n",
    "playerHealth = playerHealth - 15;\n",
    "\n",
    "// Enemy count goes up\n",
    "enemiesDefeated = enemiesDefeated + 1;\n",
    "\n",
    "// Boss battle: double the current score!\n",
    "playerScore = playerScore * 2;\n",
    "\n",
    "// Healing potion restores health to 80% of current\n",
    "playerHealth = playerHealth * 4;\n",
    "playerHealth = playerHealth / 5; // 4/5 = 0.8, but we need integer math\n"
   ]
  },
  {
   "cell_type": "code",
   "execution_count": null,
   "id": "eded3594",
   "metadata": {
    "language": "java"
   },
   "outputs": [],
   "source": [
    "// Refactored with compound assignments\n",
    "int playerScore2 = 1000;\n",
    "int playerHealth2 = 100;\n",
    "int enemiesDefeated2 = 0;\n",
    "\n",
    "// Player defeats an enemy worth 250 points\n",
    "playerScore2 += 250;\n",
    "\n",
    "// Player takes 15 damage\n",
    "playerHealth2 -= 15;\n",
    "\n",
    "// Enemy count goes up\n",
    "enemiesDefeated2++;\n",
    "\n",
    "// Boss battle: double the current score!\n",
    "playerScore2 *= 2;\n",
    "\n",
    "// Healing potion restores health to 80% of current (same as *4 then /5)\n",
    "playerHealth2 *= 4;\n",
    "playerHealth2 /= 5;\n",
    "\n",
    "// Print results\n",
    "System.out.println(\"Score: \" + playerScore2);\n",
    "System.out.println(\"Health: \" + playerHealth2);\n",
    "System.out.println(\"Enemies defeated: \" + enemiesDefeated2);\n"
   ]
  },
  {
   "cell_type": "markdown",
   "id": "c5b8df6d",
   "metadata": {},
   "source": [
    "## Popcorn Hack #2: Score Tracker\n",
    "\n",
    "Write a short program where a variable called `score` starts at 100.  \n",
    "Use at least **three different** compound assignment operators to update score, printing after each step.\n"
   ]
  },
  {
   "cell_type": "code",
   "execution_count": null,
   "id": "19535fde",
   "metadata": {
    "language": "java"
   },
   "outputs": [],
   "source": [
    "int score = 100;\n",
    "System.out.println(\"Start score = \" + score);\n",
    "\n",
    "// Deduct points for a wrong answer\n",
    "score -= 15;\n",
    "System.out.println(\"After wrong answer (-= 15): \" + score);\n",
    "\n",
    "// Double the score with a power-up\n",
    "score *= 2;\n",
    "System.out.println(\"After power-up (*= 2): \" + score);\n",
    "\n",
    "// Find remainder after dividing by 7\n",
    "score %= 7;\n",
    "System.out.println(\"After modulo (%= 7): \" + score);\n",
    "\n",
    "// Careful with integer division using /=\n",
    "score = 100;  // reset\n",
    "score /= 3;   // truncates fractional part\n",
    "System.out.println(\"After /= 3 (int division): \" + score);\n",
    "\n",
    "// Post-increment / decrement are in-scope for AP:\n",
    "score++;\n",
    "System.out.println(\"After post-increment (score++): \" + score);\n",
    "score--;\n",
    "System.out.println(\"After post-decrement (score--): \" + score);\n"
   ]
  },
  {
   "cell_type": "markdown",
   "id": "11243a95",
   "metadata": {},
   "source": [
    "## Homework Assignment (1.6): Social Media Influencer Simulator\n",
    "\n",
    "**Requirements**\n",
    "- Use at least **three different** compound assignment operators (`+=, -=, *=, /=, %=, ++, --`)\n",
    "- Use meaningful variable names\n",
    "- Print statements after each operation\n",
    "- Comments explaining what each step represents\n",
    "- A `main` method that runs your simulation\n"
   ]
  },
  {
   "cell_type": "code",
   "execution_count": null,
   "id": "eb74953e",
   "metadata": {
    "language": "java"
   },
   "outputs": [],
   "source": [
    "public class InfluencerSim {\n",
    "    public static void main(String[] args) {\n",
    "        // Initial state\n",
    "        int followers = 1200;\n",
    "        int posts = 35;\n",
    "        int engagement = 280;         // likes/comments today\n",
    "        int sponsorshipEarnings = 500; // dollars\n",
    "\n",
    "        System.out.println(\"Day start -> followers: \" + followers + \", posts: \" + posts +\n",
    "                           \", engagement: \" + engagement + \", earnings: $\" + sponsorshipEarnings);\n",
    "\n",
    "        // New post: gains 150 followers and 200 engagement\n",
    "        posts += 1;                 // made a new post\n",
    "        followers += 150;           // growth from new post\n",
    "        engagement += 200;\n",
    "        System.out.println(\"[After new post] followers=\" + followers + \", posts=\" + posts +\n",
    "                           \", engagement=\" + engagement);\n",
    "\n",
    "        // Viral boost: double engagement for the day\n",
    "        engagement *= 2;\n",
    "        System.out.println(\"[Viral boost] engagement=\" + engagement);\n",
    "\n",
    "        // Brand deal pays a flat $250\n",
    "        sponsorshipEarnings += 250;\n",
    "        System.out.println(\"[Brand deal] earnings=$\" + sponsorshipEarnings);\n",
    "\n",
    "        // Algorithm slump: lose 5% followers (approximate with integer math)\n",
    "        followers -= followers / 20; // subtract 1/20 = 5%\n",
    "        System.out.println(\"[Algorithm slump] followers=\" + followers);\n",
    "\n",
    "        // Giveaway: every 3 likes ~ 1 follower, approximate via division\n",
    "        followers += engagement / 3;\n",
    "        System.out.println(\"[Giveaway conversion] followers=\" + followers);\n",
    "\n",
    "        // Platform fee takes 10% of earnings (integer math)\n",
    "        sponsorshipEarnings -= sponsorshipEarnings / 10;\n",
    "        System.out.println(\"[Platform fee] earnings=$\" + sponsorshipEarnings);\n",
    "\n",
    "        // End-of-day cleanup\n",
    "        posts++;\n",
    "        System.out.println(\"[End of day] posts=\" + posts + \", followers=\" + followers +\n",
    "                           \", engagement=\" + engagement + \", earnings=$\" + sponsorshipEarnings);\n",
    "    }\n",
    "}\n"
   ]
  }
 ],
 "metadata": {},
 "nbformat": 4,
 "nbformat_minor": 5
}
