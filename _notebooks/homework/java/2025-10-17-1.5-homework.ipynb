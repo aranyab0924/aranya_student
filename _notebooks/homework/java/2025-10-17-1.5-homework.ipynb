{
 "cells": [
  {
   "cell_type": "markdown",
   "id": "7eed6ae1",
   "metadata": {},
   "source": [
    "---\n",
    "layout: post\n",
    "toc: true\n",
    "title: Introduction to Algorithms, Programming, and Compilers 1_5 HW\n",
    "permalink: /csa/unit_01/1_5hw\n",
    "categories: [Java]\n",
    "---\n"
   ]
  },
  {
   "cell_type": "markdown",
   "id": "f4b671ce",
   "metadata": {},
   "source": [
    "# Unit 1.5 — Casting, Arithmetic, and Edge Cases\n",
    "\n",
    "This notebook uses **real Java code cells** and mirrors the sections in your screenshots.\n"
   ]
  },
  {
   "cell_type": "markdown",
   "id": "84bdf924",
   "metadata": {},
   "source": [
    "## Practice: predict the output (Java)"
   ]
  },
  {
   "cell_type": "markdown",
   "id": "767d944d",
   "metadata": {},
   "source": [
    "### Q1\n",
    "Predict the output.\n"
   ]
  },
  {
   "cell_type": "code",
   "execution_count": 1,
   "id": "d0223c1a",
   "metadata": {
    "language": "java",
    "vscode": {
     "languageId": "java"
    }
   },
   "outputs": [
    {
     "name": "stdout",
     "output_type": "stream",
     "text": [
      "2\n",
      "2\n",
      "2.0\n",
      "2.5\n"
     ]
    }
   ],
   "source": [
    "int a = 10, b = 4;\n",
    "System.out.println(a / b);\n",
    "System.out.println(a % b);\n",
    "System.out.println((double) (a / b));\n",
    "System.out.println(((double) a) / b);\n"
   ]
  },
  {
   "cell_type": "markdown",
   "id": "faaac0df",
   "metadata": {},
   "source": [
    "### Q2"
   ]
  },
  {
   "cell_type": "code",
   "execution_count": 2,
   "id": "6e9ca99d",
   "metadata": {
    "language": "java",
    "vscode": {
     "languageId": "java"
    }
   },
   "outputs": [
    {
     "name": "stdout",
     "output_type": "stream",
     "text": [
      "-2\n",
      "-3\n",
      "3\n"
     ]
    }
   ],
   "source": [
    "double d = -2.6;\n",
    "System.out.println((int) d);\n",
    "System.out.println((int) (d - 0.5));\n",
    "System.out.println((int) (-d + 0.5));\n"
   ]
  },
  {
   "cell_type": "markdown",
   "id": "fbb7ab6e",
   "metadata": {},
   "source": [
    "### Q3"
   ]
  },
  {
   "cell_type": "code",
   "execution_count": 3,
   "id": "d027dc2c",
   "metadata": {
    "language": "java",
    "vscode": {
     "languageId": "java"
    }
   },
   "outputs": [
    {
     "name": "stdout",
     "output_type": "stream",
     "text": [
      "2147483647\n",
      "-2147483647\n"
     ]
    }
   ],
   "source": [
    "int x = Integer.MAX_VALUE;\n",
    "int y = x + 2;\n",
    "System.out.println(x);\n",
    "System.out.println(y);  // overflow wrap\n"
   ]
  },
  {
   "cell_type": "markdown",
   "id": "7487277a",
   "metadata": {},
   "source": [
    "## Answer key\n",
    "\n",
    "**Q1**\n",
    "```\n",
    "2\n",
    "2\n",
    "2.0\n",
    "2.5\n",
    "```\n",
    "\n",
    "**Q2**\n",
    "```\n",
    "-2\n",
    "-3\n",
    "3\n",
    "```\n",
    "\n",
    "**Q3**\n",
    "```\n",
    "2147483647\n",
    "-2147483647\n",
    "```\n"
   ]
  },
  {
   "cell_type": "markdown",
   "id": "94264269",
   "metadata": {},
   "source": [
    "## FRQ-style tasks"
   ]
  },
  {
   "cell_type": "markdown",
   "id": "08955f49",
   "metadata": {},
   "source": [
    "### FRQ 1. Average with correct casting\n",
    "Write a method `avgInt` that takes two `int` values and returns their average as a `double`,\n",
    "preserving the `.5` if present.\n"
   ]
  },
  {
   "cell_type": "markdown",
   "id": "921492fd",
   "metadata": {},
   "source": [
    "### FRQ 2. Percentage\n",
    "Given `int correct` and `int total`, compute the percentage as a `double` from 0.0 to 100.0 **without** losing fractional precision.\n"
   ]
  },
  {
   "cell_type": "markdown",
   "id": "cb49d0e7",
   "metadata": {},
   "source": [
    "### FRQ 3. Safe remainder\n",
    "Implement `safeMod(int a, int b)` that returns `a % b`, but if `b == 0`, it should return `0` instead of throwing.\n"
   ]
  },
  {
   "cell_type": "code",
   "execution_count": 4,
   "id": "035fdc0a",
   "metadata": {
    "language": "java",
    "vscode": {
     "languageId": "java"
    }
   },
   "outputs": [],
   "source": [
    "public class FrqSolutions {\n",
    "    public static double avgInt(int a, int b) {\n",
    "        // Cast before division to avoid integer truncation\n",
    "        return (a + b) / 2.0;\n",
    "    }\n",
    "\n",
    "    public static double percent(int correct, int total) {\n",
    "        if (total == 0) return 0.0;\n",
    "        return (correct * 100.0) / total;\n",
    "    }\n",
    "\n",
    "    public static int safeMod(int a, int b) {\n",
    "        if (b == 0) return 0;\n",
    "        return a % b;\n",
    "    }\n",
    "\n",
    "    // quick demo\n",
    "    public static void main(String[] args) {\n",
    "        System.out.println(\"avgInt(3, 4) = \" + avgInt(3, 4));       // 3.5\n",
    "        System.out.println(\"percent(37, 40) = \" + percent(37, 40)); // 92.5\n",
    "        System.out.println(\"safeMod(10, 3) = \" + safeMod(10, 3));   // 1\n",
    "        System.out.println(\"safeMod(10, 0) = \" + safeMod(10, 0));   // 0\n",
    "    }\n",
    "}\n"
   ]
  },
  {
   "cell_type": "markdown",
   "id": "585e99fc",
   "metadata": {},
   "source": [
    "## Java Casting MCQs"
   ]
  },
  {
   "cell_type": "markdown",
   "id": "1e998b33",
   "metadata": {},
   "source": [
    "**Question 1:** What is the output of the following code? A) 7.9  B) 8  C) 7  D) 8.0  E) Compile error\n",
    "```java\n",
    "double x = 7.9;\n",
    "int y = (int) x;\n",
    "System.out.println(y);\n",
    "```\n",
    "\n",
    "**Question 2:** Which of the following statements will compile without error?  \n",
    "A) `int c = a + b;`  \n",
    "B) `int c = (int)(a + b);`  \n",
    "C) `int c = a + (int)b;`  \n",
    "D) Both B and C  \n",
    "E) All of the above\n",
    "\n",
    "*(Given:)*\n",
    "```java\n",
    "int a = 10;\n",
    "double b = 5.5;\n",
    "```\n",
    "\n",
    "**Question 3:** What is the result of the following code?  A) 4.5  B) 4  C) 5  D) 4.0  E) Compile error\n",
    "```java\n",
    "int num = 9 / 2;\n",
    "System.out.println(num);\n",
    "```\n",
    "\n",
    "**Question 4:** Given the following code, what is printed?  A) 15  B) 16  C) 15.5  D) 16.0  E) 15.7\n",
    "```java\n",
    "double d = 15.7;\n",
    "int i = (int)(d + 0.5);\n",
    "System.out.println(i);\n",
    "```\n",
    "\n",
    "**Question 5:** Which statement about casting is TRUE?  \n",
    "A) Casting from int to double requires explicit casting  \n",
    "B) Casting from double to int requires explicit casting  \n",
    "C) Casting from int to double may result in loss of data  \n",
    "D) Casting is never necessary in Java  \n",
    "E) Casting from double to int always rounds to the nearest integer\n"
   ]
  },
  {
   "cell_type": "markdown",
   "id": "8fb36f2e",
   "metadata": {},
   "source": [
    "### MCQ Answers\n",
    "1. **B** (prints `8`; casting truncates toward zero)  \n",
    "2. **D** (B and C; A fails because `a + b` is `double`)  \n",
    "3. **B** (`9 / 2` is integer division → `4`)  \n",
    "4. **B** (`15.7 + 0.5 = 16.2`, cast to int → `16`)  \n",
    "5. **B** (double→int needs explicit cast; int→double is implicit)\n"
   ]
  }
 ],
 "metadata": {
  "kernelspec": {
   "display_name": "java (JJava/j!)",
   "language": "java",
   "name": "jbang-jjava"
  },
  "language_info": {
   "codemirror_mode": "java",
   "file_extension": ".jshell",
   "mimetype": "text/x-java-source",
   "name": "Java",
   "pygments_lexer": "java",
   "version": "21.0.8+9-Ubuntu-0ubuntu124.04.1"
  }
 },
 "nbformat": 4,
 "nbformat_minor": 5
}
