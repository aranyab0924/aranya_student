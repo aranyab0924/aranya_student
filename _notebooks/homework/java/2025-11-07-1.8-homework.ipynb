{
 "cells": [
  {
   "cell_type": "markdown",
   "id": "e120cf65",
   "metadata": {},
   "source": [
    "---\n",
    "layout: post\n",
    "toc: true\n",
    "title: Introduction to Algorithms, Programming, and Compilers 1_8 HW\n",
    "permalink: /csa/unit_01/1_8hw\n",
    "categories: [Java]\n",
    "---\n"
   ]
  },
  {
   "cell_type": "markdown",
   "id": "ab8af02c",
   "metadata": {},
   "source": [
    "# Unit 1.8 — Java Documentation and Javadoc\n",
    "\n",
    "This notebook covers lesson and homework tasks on **documentation**, **Javadoc**, and **code readability**.\n"
   ]
  },
  {
   "cell_type": "markdown",
   "id": "081de1cc",
   "metadata": {},
   "source": [
    "## Lesson Hack #1: Fix the Documentation\n",
    "\n",
    "Rewrite this method with proper **Javadoc comments**, including **preconditions** and **postconditions**.\n"
   ]
  },
  {
   "cell_type": "code",
   "execution_count": null,
   "id": "f47fb13f",
   "metadata": {
    "language": "java"
   },
   "outputs": [],
   "source": [
    "/**\n",
    " * Calculates the sum of all positive even numbers in an integer array.\n",
    " * <p>\n",
    " * Preconditions: The input array {@code nums} must not be null.\n",
    " * Postconditions: Returns the total sum of positive even integers found in {@code nums}.\n",
    " *\n",
    " * @param nums an array of integers to process\n",
    " * @return the sum of all positive even numbers in the array\n",
    " */\n",
    "public int doSomething(int[] nums) {\n",
    "    int result = 0;\n",
    "    for (int i = 0; i < nums.length; i++) {\n",
    "        if (nums[i] > 0 && nums[i] % 2 == 0) {\n",
    "            result += nums[i];\n",
    "        }\n",
    "    }\n",
    "    return result;\n",
    "}\n"
   ]
  },
  {
   "cell_type": "markdown",
   "id": "d0a7c7bf",
   "metadata": {},
   "source": [
    "## Popcorn Hack #2: Write Class Documentation\n",
    "\n",
    "Add Javadoc to document this `GradeBook` class.\n"
   ]
  },
  {
   "cell_type": "code",
   "execution_count": null,
   "id": "fb7fd070",
   "metadata": {
    "language": "java"
   },
   "outputs": [],
   "source": [
    "import java.util.HashMap;\n",
    "\n",
    "/**\n",
    " * The GradeBook class manages assignments, category weights, and calculates final grades.\n",
    " * <p>\n",
    " * It supports adding assignments by category, setting category weights, applying extra credit,\n",
    " * and generating a final grade report.\n",
    " *\n",
    " * @author Student\n",
    " * @version 1.0\n",
    " * @since 2025-10-10\n",
    " */\n",
    "public class GradeBook {\n",
    "    private HashMap<String, Double> assignments;\n",
    "    private HashMap<String, Double> categoryWeights;\n",
    "    private double extraCredit;\n",
    "\n",
    "    /** Adds an assignment to a given category with a score. */\n",
    "    public void addAssignment(String category, String name, double score) { }\n",
    "\n",
    "    /** Sets the weight of a category (e.g., Tests = 0.4). */\n",
    "    public void setCategoryWeight(String category, double weight) { }\n",
    "\n",
    "    /** Calculates and returns the final weighted grade. */\n",
    "    public double calculateFinalGrade() { return 0.0; }\n",
    "\n",
    "    /** Generates a string summary of the student's grade report. */\n",
    "    public String generateReport() { return \"\"; }\n",
    "}\n"
   ]
  },
  {
   "cell_type": "markdown",
   "id": "243bca20",
   "metadata": {},
   "source": [
    "## Homework Assignment: Documentation Analysis\n",
    "\n",
    "### Part 1: Fix Poor Documentation\n",
    "Rewrite the following class with proper Javadoc and add a short explanation.\n"
   ]
  },
  {
   "cell_type": "code",
   "execution_count": null,
   "id": "da2ec94c",
   "metadata": {
    "language": "java"
   },
   "outputs": [],
   "source": [
    "/**\n",
    " * Demonstrates basic addition using a helper method.\n",
    " * Prints the sum of two integers.\n",
    " */\n",
    "public class Stuff {\n",
    "    /**\n",
    "     * Entry point for the program. Adds two integers and prints the result.\n",
    "     * @param args command-line arguments (unused)\n",
    "     */\n",
    "    public static void main(String[] args) {\n",
    "        int x = 5;\n",
    "        int y = 10;\n",
    "        int z = add(x, y);\n",
    "        System.out.println(\"Answer is \" + z);\n",
    "    }\n",
    "\n",
    "    /**\n",
    "     * Adds two integers together.\n",
    "     * @param a the first integer\n",
    "     * @param b the second integer\n",
    "     * @return the sum of {@code a} and {@code b}\n",
    "     */\n",
    "    static int add(int a, int b) {\n",
    "        return a + b;\n",
    "    }\n",
    "}\n",
    "\n",
    "// Explanation:\n",
    "// Improved naming (Stuff → descriptive name), added method and class Javadoc,\n",
    "// included @param and @return tags, and clarified purpose.\n"
   ]
  },
  {
   "cell_type": "markdown",
   "id": "c1b74d83",
   "metadata": {},
   "source": [
    "### Part 2: Document a Complex Method\n",
    "\n",
    "Write full Javadoc for this method.\n"
   ]
  },
  {
   "cell_type": "code",
   "execution_count": null,
   "id": "544023cb",
   "metadata": {
    "language": "java"
   },
   "outputs": [],
   "source": [
    "/**\n",
    " * Attempts to enroll a student in a course for a given semester.\n",
    " * <p>\n",
    " * Preconditions:\n",
    " * - {@code studentId} and {@code courseCode} must exist in the system.\n",
    " * - Student must meet all course prerequisites and not exceed 18 credit hours.\n",
    " * Postconditions:\n",
    " * - If successful, both the student's and course's enrollment lists are updated.\n",
    " * - Returns {@code true} if enrollment succeeded, {@code false} otherwise.\n",
    " *\n",
    " * @param studentId the unique ID of the student\n",
    " * @param courseCode the code identifying the course\n",
    " * @param semester the semester number for enrollment\n",
    " * @return {@code true} if the student is successfully enrolled; otherwise {@code false}\n",
    " */\n",
    "public boolean enrollStudent(String studentId, String courseCode, int semester) {\n",
    "    Student student = findStudentById(studentId);\n",
    "    if (student == null) return false;\n",
    "\n",
    "    Course course = findCourseByCode(courseCode);\n",
    "    if (course == null) return false;\n",
    "\n",
    "    if (course.isFull()) return false;\n",
    "    if (student.hasScheduleConflict(course)) return false;\n",
    "    if (!student.hasPrerequisites(course)) return false;\n",
    "    if (student.getCreditHours() + course.getCreditHours() > 18) return false;\n",
    "\n",
    "    student.addCourse(course);\n",
    "    course.addStudent(student);\n",
    "    recordEnrollmentTransaction(studentId, courseCode, semester);\n",
    "\n",
    "    return true;\n",
    "}\n"
   ]
  },
  {
   "cell_type": "markdown",
   "id": "916313d0",
   "metadata": {},
   "source": [
    "### Part 3: Reflection Questions\n",
    "\n",
    "1. **Why is documentation more important in team projects than solo projects?**  \n",
    "   Because teammates depend on clear documentation to understand, maintain, and extend each other's code. Without it, collaboration slows and mistakes increase.\n",
    "\n",
    "2. **When should a method be documented and when not?**  \n",
    "   Document when the method is public, complex, or non-obvious. Skip for trivial private helpers (like simple getters/setters) unless behavior is unexpected.\n"
   ]
  }
 ],
 "metadata": {},
 "nbformat": 4,
 "nbformat_minor": 5
}
