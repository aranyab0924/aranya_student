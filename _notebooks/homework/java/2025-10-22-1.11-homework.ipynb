{
 "cells": [
  {
   "cell_type": "markdown",
   "id": "49d989f8",
   "metadata": {},
   "source": [
    "---\n",
    "layout: post\n",
    "toc: true\n",
    "title: Introduction to Algorithms, Programming, and Compilers 1_11 HW\n",
    "permalink: /csa/unit_01/1_11hw\n",
    "categories: [Java]\n",
    "---\n"
   ]
  },
  {
   "cell_type": "markdown",
   "id": "0fdc794e",
   "metadata": {},
   "source": [
    "# Unit 1.11 — Math Class & Random\n",
    "\n",
    "This notebook includes Popcorn Hacks, MCQs, and the full Homework Hack (A–D). All code cells are **Java**.\n"
   ]
  },
  {
   "cell_type": "markdown",
   "id": "f56ddb46",
   "metadata": {},
   "source": [
    "## Popcorn Hack #1 — Power Level Calculator"
   ]
  },
  {
   "cell_type": "code",
   "execution_count": null,
   "id": "165d9772",
   "metadata": {
    "language": "java"
   },
   "outputs": [],
   "source": [
    "public class PowerLevelCalculator {\n",
    "    public static void main(String[] args) {\n",
    "        int basePower = 100;\n",
    "        int level = 10;\n",
    "        double finalPower = basePower * Math.pow(1.2, level);\n",
    "        System.out.println(\"Level: \" + level);\n",
    "        System.out.println(\"Base Power: \" + basePower);\n",
    "        System.out.printf(\"Final Power: %.2f%n\", finalPower);\n",
    "    }\n",
    "}"
   ]
  },
  {
   "cell_type": "markdown",
   "id": "4a2532a0",
   "metadata": {},
   "source": [
    "## Popcorn Hack #2 — Loot Drop Simulator"
   ]
  },
  {
   "cell_type": "code",
   "execution_count": null,
   "id": "5535a793",
   "metadata": {
    "language": "java"
   },
   "outputs": [],
   "source": [
    "public class LootDropSimulator {\n",
    "    public static void main(String[] args) {\n",
    "        System.out.println(\"Loot Drop!\");\n",
    "        int rarityRoll = (int)(Math.random() * 100) + 1;\n",
    "        String rarity; int minGold; int maxGold;\n",
    "        if (rarityRoll <= 60) { rarity = \"COMMON\"; minGold = 10; maxGold = 30; }\n",
    "        else if (rarityRoll <= 85) { rarity = \"RARE\"; minGold = 31; maxGold = 70; }\n",
    "        else { rarity = \"LEGENDARY\"; minGold = 71; maxGold = 100; }\n",
    "        int gold = (int)(Math.random() * (maxGold - minGold + 1)) + minGold;\n",
    "        System.out.println(\"Rarity Roll: \" + rarityRoll);\n",
    "        System.out.println(\"You got: \" + rarity + \" item\");\n",
    "        System.out.println(\"Gold Value: \" + gold);\n",
    "    }\n",
    "}"
   ]
  },
  {
   "cell_type": "markdown",
   "id": "ad93d8f4",
   "metadata": {},
   "source": [
    "## MCQs — Answers\n",
    "\n",
    "1) `(int) Math.pow(2, 3.0/2)` → **2**  \n",
    "2) `(int)(Math.random()*6) + 5` → **5 to 10 inclusive**  \n",
    "3) `round(-3.5)=-4, floor(-3.1)=-4, ceil(-3.1)=-3` → sum **-11**  \n",
    "4) Distance: **`sqrt((x2-x1)^2 + (y2-y1)^2)`**  \n",
    "5) Casted sqrt(26) → 5 and 5 → **25**\n"
   ]
  },
  {
   "cell_type": "markdown",
   "id": "e257a9f4",
   "metadata": {},
   "source": [
    "## Homework Hack — Game Stats Calculator (A–D)"
   ]
  },
  {
   "cell_type": "code",
   "execution_count": null,
   "id": "90636c45",
   "metadata": {
    "language": "java"
   },
   "outputs": [],
   "source": [
    "public class GameStats {\n",
    "    public static int healthDifference(int player1Health, int player2Health) {\n",
    "        return Math.abs(player1Health - player2Health);\n",
    "    }\n",
    "    public static double calculateDamage(double baseDamage, double powerLevel) {\n",
    "        return baseDamage * Math.pow(1.5, powerLevel);\n",
    "    }\n",
    "    public static double findDistance(int playerX, int playerY, int enemyX, int enemyY) {\n",
    "        double dx = playerX - enemyX, dy = playerY - enemyY;\n",
    "        return Math.sqrt(Math.pow(dx, 2) + Math.pow(dy, 2));\n",
    "    }\n",
    "    public static int generateLoot(int minValue, int maxValue) {\n",
    "        int min = Math.min(minValue, maxValue);\n",
    "        int max = Math.max(minValue, maxValue);\n",
    "        return (int)(Math.random() * (max - min + 1)) + min;\n",
    "    }\n",
    "    public static void main(String[] args) {\n",
    "        System.out.println(healthDifference(75, 120));\n",
    "        System.out.println(healthDifference(100, 80));\n",
    "        System.out.println(healthDifference(50, 50));\n",
    "        System.out.printf(\"%.3f%n\", calculateDamage(10.0, 2));\n",
    "        System.out.printf(\"%.3f%n\", calculateDamage(15.0, 3));\n",
    "        System.out.println(findDistance(0,0,3,4));\n",
    "        System.out.println(findDistance(1,1,4,5));\n",
    "        for (int i=0; i<5; i++) System.out.print(generateLoot(1,6) + \" \");\n",
    "        System.out.println();\n",
    "    }\n",
    "}"
   ]
  }
 ],
 "metadata": {},
 "nbformat": 4,
 "nbformat_minor": 5
}
