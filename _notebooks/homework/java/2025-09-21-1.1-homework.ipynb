{
  "cells": [
    {
      "cell_type": "markdown",
      "metadata": {},
      "source": [
        "# Homework Hacks (Java)\n",
        "\n",
        "Created: 2025-10-10 05:08 UTC\n",
        "\n",
        "This notebook contains Java solutions for three mini-assignments:\n",
        "\n",
        "- **Hack 1:** Create your own algorithm\n",
        "- **Hack 2:** Identify and fix the bug (step order)\n",
        "- **Hack 3:** Code the algorithm (Grade Calculator)\n",
        "\n",
        "At the end, you'll find instructions for running Java in Jupyter."
      ]
    },
    {
      "cell_type": "markdown",
      "id": "75c8c524",
      "metadata": {},
      "source": [
        "---\n",
        "layout: post\n",
        "toc: true\n",
        "title: Introduction to Algorithms, Programming, and Compilers HW\n",
        "permalink: /csa/unit_01/1_1hw\n",
        "categories: [Java]\n",
        "---"
      ]
    },
    {
      "cell_type": "markdown",
      "metadata": {},
      "source": [
        "## Hack 1: Create Your Own Algorithm\n",
        "\n",
        "**Activity chosen:** Setting up a new phone\n",
        "\n",
        "**Requirements met:** at least 8 steps, specific and logical order.\n",
        "\n",
        "**Algorithm (natural language):**\n",
        "\n",
        "1. Unbox the phone and check the contents.\n",
        "2. Hold the power button to turn the phone on.\n",
        "3. Choose language and region on the setup screen.\n",
        "4. Connect to a secure Wi‑Fi network.\n",
        "5. Sign in with your Google/Apple account.\n",
        "6. Set a screen lock (PIN, pattern, or Face/Touch ID).\n",
        "7. Restore apps and data from a previous device or cloud backup.\n",
        "8. Update the phone's software if an update is available.\n",
        "9. Install essential apps (messages, email, maps, bank).\n",
        "10. Enable automatic backups.\n",
        "\n",
        "Below is a tiny Java program that simply prints these steps."
      ]
    },
    {
      "cell_type": "code",
      "execution_count": 2,
      "metadata": {
        "language": "java",
        "vscode": {
          "languageId": "java"
        }
      },
      "outputs": [],
      "source": [
        "// Hack 1 — print the algorithm steps for setting up a new phone\n",
        "public class SetupPhoneAlgorithm {\n",
        "    public static void main(String[] args) {\n",
        "        String[] steps = {\n",
        "            \"1. Unbox the phone and check the contents.\",\n",
        "            \"2. Hold the power button to turn the phone on.\",\n",
        "            \"3. Choose language and region on the setup screen.\",\n",
        "            \"4. Connect to a secure Wi‑Fi network.\",\n",
        "            \"5. Sign in with your Google/Apple account.\",\n",
        "            \"6. Set a screen lock (PIN, pattern, or Face/Touch ID).\",\n",
        "            \"7. Restore apps and data from a previous device or cloud backup.\",\n",
        "            \"8. Update the phone's software if an update is available.\",\n",
        "            \"9. Install essential apps (messages, email, maps, bank).\",\n",
        "            \"10. Enable automatic backups.\"\n",
        "        };\n",
        "        for (String s : steps) System.out.println(s);\n",
        "    }\n",
        "}\n"
      ]
    },
    {
      "cell_type": "markdown",
      "metadata": {},
      "source": [
        "## Hack 2: Identify the Bug (Fix the Order)\n",
        "\n",
        "**Original problem:** Steps for *Send an Email* were out of order.\n",
        "\n",
        "**Corrected Algorithm: Send an Email**\n",
        "\n",
        "1. Open email application.\n",
        "2. Log into your account.\n",
        "3. Enter recipient's email address.\n",
        "4. Write subject line.\n",
        "5. Type the message.\n",
        "6. Click \"Send\".\n",
        "\n",
        "The Java snippet below prints the corrected steps."
      ]
    },
    {
      "cell_type": "code",
      "execution_count": 3,
      "metadata": {
        "language": "java",
        "vscode": {
          "languageId": "java"
        }
      },
      "outputs": [],
      "source": [
        "// Hack 2 — print the corrected steps for sending an email\n",
        "public class SendEmailFixed {\n",
        "    public static void main(String[] args) {\n",
        "        String[] steps = {\n",
        "            \"1. Open email application.\",\n",
        "            \"2. Log into your account.\",\n",
        "            \"3. Enter recipient's email address.\",\n",
        "            \"4. Write subject line.\",\n",
        "            \"5. Type the message.\",\n",
        "            \"6. Click \\\"Send\\\".\"\n",
        "        };\n",
        "        for (String s : steps) System.out.println(s);\n",
        "    }\n",
        "}\n"
      ]
    },
    {
      "cell_type": "markdown",
      "metadata": {},
      "source": [
        "## Hack 3: Code the Algorithm (Grade Calculator in Java)\n",
        "\n",
        "**Specification:**\n",
        "- Get three test scores from user input\n",
        "- Add them and compute the average\n",
        "- If average ≥ 90 → A; ≥ 80 → B; ≥ 70 → C; ≥ 60 → D; otherwise F\n",
        "- Display the average and letter grade\n",
        "\n",
        "The program below uses `Scanner` for input and includes simple input validation."
      ]
    },
    {
      "cell_type": "code",
      "execution_count": 4,
      "metadata": {
        "language": "java",
        "vscode": {
          "languageId": "java"
        }
      },
      "outputs": [],
      "source": [
        "// Hack 3 — Grade Calculator in Java\n",
        "import java.util.Scanner;\n",
        "\n",
        "public class GradeCalculator {\n",
        "    public static void main(String[] args) {\n",
        "        Scanner sc = new Scanner(System.in);\n",
        "        double s1 = readScore(sc, 1);\n",
        "        double s2 = readScore(sc, 2);\n",
        "        double s3 = readScore(sc, 3);\n",
        "\n",
        "        double average = (s1 + s2 + s3) / 3.0;\n",
        "        char grade = letter(average);\n",
        "\n",
        "        System.out.printf(\"Average: %.2f%n\", average);\n",
        "        System.out.println(\"Grade: \" + grade);\n",
        "    }\n",
        "\n",
        "    private static double readScore(Scanner sc, int index) {\n",
        "        System.out.print(\"Enter score \" + index + \": \");\n",
        "        while (!sc.hasNextDouble()) {\n",
        "            System.out.print(\"Please enter a valid number for score \" + index + \": \");\n",
        "            sc.next(); // discard invalid token\n",
        "        }\n",
        "        return sc.nextDouble();\n",
        "    }\n",
        "\n",
        "    private static char letter(double avg) {\n",
        "        if (avg >= 90) return 'A';\n",
        "        if (avg >= 80) return 'B';\n",
        "        if (avg >= 70) return 'C';\n",
        "        if (avg >= 60) return 'D';\n",
        "        return 'F';\n",
        "    }\n",
        "}\n"
      ]
    },
    {
      "cell_type": "markdown",
      "metadata": {},
      "source": [
        "## How to Run Java in a Jupyter Notebook\n",
        "\n",
        "You have two good options:\n",
        "\n",
        "### Option A — Use a **Java kernel (IJava)** *(recommended)*\n",
        "1. Install Java 11+ and Jupyter.\n",
        "2. Install the IJava kernel:\n",
        "   ```bash\n",
        "   pip install jupyter\n",
        "   # if you use conda: conda install -c conda-forge jupyterlab\n",
        "   pip install jdk4py  # optional helper that provides a JDK\n",
        "   pip install jupyter-kernel-java\n",
        "   python -m jupyter_kernel_java install\n",
        "   ```\n",
        "3. Restart Jupyter and choose the **Java** kernel when opening this notebook.\n",
        "4. Run each Java cell directly (no manual `javac` needed).\n",
        "\n",
        "### Option B — Stay on a Python kernel and compile/run Java via shell\n",
        "1. Make sure `javac` and `java` are installed and on your PATH.\n",
        "2. Add a *bash* cell to compile & run (replace with your class name):\n",
        "   ```bash\n",
        "   # compile\n",
        "   javac GradeCalculator.java\n",
        "   # run\n",
        "   java GradeCalculator\n",
        "   ```\n",
        "3. If your notebook doesn't write `.java` files automatically, copy the code cell contents into files with the same class names first.\n",
        "\n",
        "**Tip:** In Jupyter, a bash cell starts with `%%bash` at the very top of the cell."
      ]
    }
  ],
  "metadata": {
    "kernelspec": {
      "display_name": "java (JJava/j!)",
      "language": "java",
      "name": "jbang-jjava"
    },
    "language_info": {
      "codemirror_mode": "java",
      "file_extension": ".jshell",
      "mimetype": "text/x-java-source",
      "name": "Java",
      "pygments_lexer": "java",
      "version": "21.0.8+9-Ubuntu-0ubuntu124.04.1"
    },
    "title": "Homework Hacks — Java in Jupyter"
  },
  "nbformat": 4,
  "nbformat_minor": 5
}
