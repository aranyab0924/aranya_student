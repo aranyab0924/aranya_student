{
 "cells": [
  {
   "cell_type": "markdown",
   "id": "aa0c6ec6",
   "metadata": {},
   "source": [
    "---\n",
    "layout: post\n",
    "toc: true\n",
    "title: Introduction to Algorithms, Programming, and Compilers 1_7 HW\n",
    "permalink: /csa/unit_01/1_7hw\n",
    "categories: [Java]\n",
    "---\n"
   ]
  },
  {
   "cell_type": "markdown",
   "id": "5f50856f",
   "metadata": {},
   "source": [
    "# Unit 1.7 — Classes, Methods, and the Java Standard Library\n",
    "\n",
    "This notebook mirrors your format and uses **real Java code cells**.\n"
   ]
  },
  {
   "cell_type": "markdown",
   "id": "df3fea0c",
   "metadata": {},
   "source": [
    "## Popcorn Hack #1: Using Documentation (5 minutes)\n",
    "\n",
    "Use the `Math` class and `ArrayList` class based on their documentation.\n"
   ]
  },
  {
   "cell_type": "code",
   "execution_count": null,
   "id": "23086520",
   "metadata": {
    "language": "java"
   },
   "outputs": [],
   "source": [
    "import java.util.ArrayList;\n",
    "\n",
    "public class PopcornHack1 {\n",
    "    public static void main(String[] args) {\n",
    "        double pow = Math.pow(3, 4);\n",
    "        double root = Math.sqrt(64);\n",
    "\n",
    "        ArrayList<String> colors = new ArrayList<>();\n",
    "        colors.add(\"red\");\n",
    "        colors.add(\"blue\");\n",
    "        colors.add(\"green\");\n",
    "\n",
    "        System.out.println(\"3^4 = \" + pow);\n",
    "        System.out.println(\"sqrt(64) = \" + root);\n",
    "        System.out.println(\"colors size = \" + colors.size());\n",
    "        System.out.println(colors);\n",
    "    }\n",
    "}\n"
   ]
  },
  {
   "cell_type": "markdown",
   "id": "3f7d722d",
   "metadata": {},
   "source": [
    "## Popcorn Hack #2: Attributes and Behaviors (5 minutes)\n",
    "\n",
    "Create a `Book` class with attributes and behaviors.\n"
   ]
  },
  {
   "cell_type": "code",
   "execution_count": null,
   "id": "644ecfca",
   "metadata": {
    "language": "java"
   },
   "outputs": [],
   "source": [
    "public class Book {\n",
    "    private String title;\n",
    "    private String author;\n",
    "    private int pages;\n",
    "\n",
    "    public Book(String title, String author, int pages) {\n",
    "        this.title = title;\n",
    "        this.author = author;\n",
    "        this.pages = pages;\n",
    "    }\n",
    "\n",
    "    public void displayInfo() {\n",
    "        System.out.println(\"Title: \" + title + \", Author: \" + author + \", Pages: \" + pages);\n",
    "    }\n",
    "\n",
    "    public boolean isLong() {\n",
    "        return pages > 300;\n",
    "    }\n",
    "\n",
    "    public static void main(String[] args) {\n",
    "        Book myBook = new Book(\"Java Basics\", \"John Doe\", 350);\n",
    "        myBook.displayInfo();\n",
    "        System.out.println(\"Is long? \" + myBook.isLong());\n",
    "    }\n",
    "}\n"
   ]
  },
  {
   "cell_type": "markdown",
   "id": "965bc893",
   "metadata": {},
   "source": [
    "## Homework Hack: Phone Class\n",
    "\n",
    "Create a `Phone` class with attributes and behaviors, using `ArrayList` from `java.util`.\n"
   ]
  },
  {
   "cell_type": "code",
   "execution_count": null,
   "id": "8d52eedf",
   "metadata": {
    "language": "java"
   },
   "outputs": [],
   "source": [
    "import java.util.ArrayList;\n",
    "\n",
    "public class Phone {\n",
    "    private String brand;\n",
    "    private String model;\n",
    "    private int batteryLevel;\n",
    "    private ArrayList<String> contacts;\n",
    "\n",
    "    public Phone(String brand, String model) {\n",
    "        this.brand = brand;\n",
    "        this.model = model;\n",
    "        this.batteryLevel = 100;\n",
    "        this.contacts = new ArrayList<>();\n",
    "    }\n",
    "\n",
    "    public void displayInfo() {\n",
    "        System.out.println(brand + \" \" + model + \" | Battery: \" + batteryLevel + \"%\");\n",
    "    }\n",
    "\n",
    "    public void addContact(String name) {\n",
    "        contacts.add(name);\n",
    "    }\n",
    "\n",
    "    public void showContacts() {\n",
    "        System.out.println(\"Contacts (\" + contacts.size() + \"): \" + contacts);\n",
    "    }\n",
    "\n",
    "    public void usePhone(int minutes) {\n",
    "        if (minutes < 0) return;\n",
    "        batteryLevel -= minutes;\n",
    "        if (batteryLevel < 0) batteryLevel = 0;\n",
    "    }\n",
    "\n",
    "    public static void main(String[] args) {\n",
    "        Phone p1 = new Phone(\"Apple\", \"iPhone 15\");\n",
    "        Phone p2 = new Phone(\"Samsung\", \"S24\");\n",
    "\n",
    "        p1.addContact(\"Ava\");\n",
    "        p1.addContact(\"Leo\");\n",
    "        p1.addContact(\"Noah\");\n",
    "\n",
    "        p2.addContact(\"Maya\");\n",
    "        p2.addContact(\"Zoe\");\n",
    "        p2.addContact(\"Kai\");\n",
    "\n",
    "        p1.usePhone(35);\n",
    "        p2.usePhone(20);\n",
    "\n",
    "        p1.displayInfo();\n",
    "        p1.showContacts();\n",
    "\n",
    "        p2.displayInfo();\n",
    "        p2.showContacts();\n",
    "    }\n",
    "}\n"
   ]
  }
 ],
 "metadata": {},
 "nbformat": 4,
 "nbformat_minor": 5
}
