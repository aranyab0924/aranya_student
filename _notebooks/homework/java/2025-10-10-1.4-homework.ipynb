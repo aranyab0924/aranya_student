{
 "cells": [
  {
   "cell_type": "markdown",
   "id": "97162767",
   "metadata": {},
   "source": [
    "---\n",
    "layout: post\n",
    "toc: true\n",
    "title: Introduction to Algorithms, Programming, and Compilers 1_4 HW\n",
    "permalink: /csa/unit_01/1_4hw\n",
    "categories: [Java]\n",
    "---\n"
   ]
  },
  {
   "cell_type": "markdown",
   "id": "1d78cb55",
   "metadata": {},
   "source": [
    "# Unit 1.4 — Variables, Types, and Robust Input\n",
    "\n",
    "This file matches your course format and uses **real Java** code cells.\n"
   ]
  },
  {
   "cell_type": "markdown",
   "id": "3f843f8c",
   "metadata": {},
   "source": [
    "## Popcorn Hack 1.1: Tracing Variable Values\n",
    "\n",
    "**Question:** After executing this code, what is the value of `y`? Walk through each line.\n",
    "\n",
    "```java\n",
    "int x = 10;\n",
    "x = 20;\n",
    "int y = x;\n",
    "```\n"
   ]
  },
  {
   "cell_type": "code",
   "execution_count": null,
   "id": "d54a49dd",
   "metadata": {
    "language": "java"
   },
   "outputs": [],
   "source": [
    "// Tracing variable values\n",
    "int x = 10;      // x starts at 10\n",
    "x = 20;          // x is reassigned to 20\n",
    "int y = x;       // y gets the current value of x => 20\n",
    "System.out.println(\"y = \" + y);  // Answer: 20\n"
   ]
  },
  {
   "cell_type": "markdown",
   "id": "18cdd9ea",
   "metadata": {},
   "source": [
    "## Popcorn Hack 1.2: Type Safety\n",
    "\n",
    "**Question:** What happens if you write `int count = \"hello\";`?  \n",
    "Why does this fail, and why is that helpful?\n"
   ]
  },
  {
   "cell_type": "code",
   "execution_count": null,
   "id": "4e1e1490",
   "metadata": {
    "language": "java"
   },
   "outputs": [],
   "source": [
    "// Type safety demo\n",
    "// The following line WOULD NOT COMPILE because \"hello\" is a String, not an int:\n",
    "// int count = \"hello\";\n",
    "\n",
    "// Correct usage:\n",
    "int count = 5;\n",
    "System.out.println(\"count = \" + count);\n",
    "\n",
    "// Why it's helpful: compile-time type checking catches mistakes early.\n",
    "// Uncommenting the bad line above will cause a compiler error like:\n",
    "// incompatible types: String cannot be converted to int\n"
   ]
  },
  {
   "cell_type": "markdown",
   "id": "4d54afe6",
   "metadata": {},
   "source": [
    "## Popcorn Hack 2.1: Input Validation\n",
    "\n",
    "**Question:** What happens if a user types `\"twenty\"` when `nextInt()` expects a number?  \n",
    "How can we make the program more robust?\n"
   ]
  },
  {
   "cell_type": "code",
   "execution_count": null,
   "id": "2d8f6a4e",
   "metadata": {
    "language": "java"
   },
   "outputs": [],
   "source": [
    "import java.util.Scanner;\n",
    "\n",
    "// Simulate user input containing a bad token \"twenty\" then a valid number \"42\"\n",
    "Scanner sc = new Scanner(\"twenty\\n42\\n\");\n",
    "int value;\n",
    "\n",
    "while (true) {\n",
    "    System.out.print(\"Enter an integer: \");\n",
    "    if (sc.hasNextInt()) {\n",
    "        value = sc.nextInt();\n",
    "        break;\n",
    "    } else {\n",
    "        String bad = sc.next(); // consume the bad token\n",
    "        System.out.println(\"Invalid input: \"\" + bad + \"\". Please enter a whole number.\");\n",
    "    }\n",
    "}\n",
    "System.out.println(\"You entered: \" + value);\n",
    "sc.close();\n",
    "\n",
    "// Explanation: nextInt() throws InputMismatchException on non-numeric input.\n",
    "// Using hasNextInt() (or try/catch) prevents the crash and prompts again.\n"
   ]
  },
  {
   "cell_type": "markdown",
   "id": "3c87cc94",
   "metadata": {},
   "source": [
    "## Popcorn Hack 2.2: Token vs Line\n",
    "\n",
    "**Question:** If a user enters `\"San Diego\"` when `next()` is called, what gets stored?  \n",
    "What about with `nextLine()`?\n"
   ]
  },
  {
   "cell_type": "code",
   "execution_count": null,
   "id": "6e0e0bdb",
   "metadata": {
    "language": "java"
   },
   "outputs": [],
   "source": [
    "import java.util.Scanner;\n",
    "\n",
    "// Simulate input: \"San Diego\\n\"\n",
    "Scanner sc2 = new Scanner(\"San Diego\\n\");\n",
    "String token = sc2.next();      // reads up to whitespace -> \"San\"\n",
    "System.out.println(\"next()  -> \"\" + token + \"\"\");\n",
    "\n",
    "// To read the full line after using next()/nextInt(), you often need an extra nextLine() to clear the end-of-line.\n",
    "// Here we create a new Scanner to demonstrate nextLine() cleanly.\n",
    "Scanner sc3 = new Scanner(\"San Diego\\n\");\n",
    "String line = sc3.nextLine();   // reads the whole line -> \"San Diego\"\n",
    "System.out.println(\"nextLine() -> \"\" + line + \"\"\");\n",
    "\n",
    "sc2.close();\n",
    "sc3.close();\n"
   ]
  },
  {
   "cell_type": "markdown",
   "id": "62974b49",
   "metadata": {},
   "source": [
    "## Quick Knowledge Check\n",
    "\n",
    "**Q1.** What is the value of `x` after this code executes?  \n",
    "```java\n",
    "int x = 4;\n",
    "x = x + 3;\n",
    "```\n",
    "Options: A. 4, B. 7, C. 3, D. null\n",
    "\n",
    "**Answer:** B. 7\n"
   ]
  },
  {
   "cell_type": "code",
   "execution_count": null,
   "id": "25efdc26",
   "metadata": {
    "language": "java"
   },
   "outputs": [],
   "source": [
    "int x2 = 4;\n",
    "x2 = x2 + 3;\n",
    "System.out.println(\"x = \" + x2); // 7\n"
   ]
  },
  {
   "cell_type": "markdown",
   "id": "d7506d22",
   "metadata": {},
   "source": [
    "**Q2.** Which statement(s) correctly declare and initialize a `String` variable?  \n",
    "\n",
    "A. `String s = 5;`  \n",
    "B. `String s = null;`  \n",
    "C. `String s = \"Hello\";`  \n",
    "D. Both B and C\n",
    "\n",
    "**Answer:** D (B and C are valid; A is not).\n"
   ]
  },
  {
   "cell_type": "code",
   "execution_count": null,
   "id": "8007fe0d",
   "metadata": {
    "language": "java"
   },
   "outputs": [],
   "source": [
    "// Invalid (won't compile): String s = 5;\n",
    "// Valid:\n",
    "String s1 = null;\n",
    "String s2 = \"Hello\";\n",
    "System.out.println(\"s1 is \" + s1 + \", s2 is \" + s2);\n"
   ]
  },
  {
   "cell_type": "markdown",
   "id": "4aa64e45",
   "metadata": {},
   "source": [
    "## Homework Hack — Three-Number Average Calculator (Chosen)\n",
    "\n",
    "**Task:**  \n",
    "- Prompt for three integers  \n",
    "- Compute the average (avoid integer division)  \n",
    "- Display the result with two decimal places\n"
   ]
  },
  {
   "cell_type": "code",
   "execution_count": null,
   "id": "836f98f7",
   "metadata": {
    "language": "java"
   },
   "outputs": [],
   "source": [
    "import java.util.Scanner;\n",
    "\n",
    "public class ThreeNumberAverage {\n",
    "    public static void main(String[] args) {\n",
    "        Scanner sc = new Scanner(System.in);\n",
    "\n",
    "        System.out.print(\"Enter first integer: \");\n",
    "        int n1 = sc.hasNextInt() ? sc.nextInt() : 0;\n",
    "\n",
    "        System.out.print(\"Enter second integer: \");\n",
    "        int n2 = sc.hasNextInt() ? sc.nextInt() : 0;\n",
    "\n",
    "        System.out.print(\"Enter third integer: \");\n",
    "        int n3 = sc.hasNextInt() ? sc.nextInt() : 0;\n",
    "\n",
    "        double avg = (n1 + n2 + n3) / 3.0; // or ((double)n1 + n2 + n3) / 3\n",
    "        System.out.printf(\"Average = %.2f\\n\", avg);\n",
    "\n",
    "        sc.close();\n",
    "    }\n",
    "}\n"
   ]
  }
 ],
 "metadata": {},
 "nbformat": 4,
 "nbformat_minor": 5
}
