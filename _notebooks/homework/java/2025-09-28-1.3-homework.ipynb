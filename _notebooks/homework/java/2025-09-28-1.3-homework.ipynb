{
 "cells": [
  {
   "cell_type": "markdown",
   "id": "1153c6f6",
   "metadata": {},
   "source": [
    "---\n",
    "layout: post\n",
    "toc: true\n",
    "title: Introduction to Algorithms, Programming, and Compilers 1_3 HW\n",
    "permalink: /csa/unit_01/1_3hw\n",
    "categories: [Java]\n",
    "---\n"
   ]
  },
  {
   "cell_type": "markdown",
   "id": "a345383e",
   "metadata": {},
   "source": [
    "# [Popcorn & Homework Hacks] 1.3 - Formatting, Output, and Arithmetic\n",
    "\n",
    "This notebook follows your class format. Each section includes a Java practice or mini-hack based on the screenshots you provided.\n"
   ]
  },
  {
   "cell_type": "markdown",
   "id": "d05b6f88",
   "metadata": {},
   "source": [
    "## Popcorn Hack 1\n",
    "\n",
    "Recall as many key **formatting tools** as you can without referring to notes.  \n",
    "Then explain what each does and write a line of code using as many as possible.\n",
    "\n",
    "Below is the example provided for **Arithmetic Expressions**:\n"
   ]
  },
  {
   "cell_type": "code",
   "execution_count": null,
   "id": "01d61344",
   "metadata": {
    "language": "java"
   },
   "outputs": [],
   "source": [
    "// Example: Arithmetic Expressions\n",
    "int a = 7;\n",
    "int b = 3;\n",
    "System.out.println(\"a + b = \" + (a + b));\n",
    "System.out.println(\"a - b = \" + (a - b));\n",
    "System.out.println(\"a * b = \" + (a * b));\n",
    "System.out.println(\"a / b = \" + (a / b)); // integer division\n",
    "System.out.println(\"a % b = \" + (a % b));\n",
    "\n",
    "double x = 7.0;\n",
    "double y = 3.0;\n",
    "System.out.println(\"x / y = \" + (x / y)); // floating-point division\n"
   ]
  },
  {
   "cell_type": "markdown",
   "id": "ace99039",
   "metadata": {},
   "source": [
    "## Popcorn Hack 2\n",
    "\n",
    "**Question:** What are the formatting tools used here, and what is their purpose?  \n",
    "How do they make the output cleaner and better?\n",
    "\n",
    "### Why `Menu.java` Matters\n",
    "- Uses **output** to display instructions.  \n",
    "- Uses **expressions** to dynamically show option counts.  \n",
    "- Uses **escape sequences** for clean formatting.  \n",
    "- Real-world applications include ATMs, games, apps, and vending machines.\n"
   ]
  },
  {
   "cell_type": "markdown",
   "id": "00f3f259",
   "metadata": {},
   "source": [
    "## Homework Hack 1\n",
    "\n",
    "1. **Predict Output:** What will this print?  \n",
    "2. **Fix the Bug:** The following is supposed to print `C:\\Users\\Student` but fails — correct it.  \n",
    "3. **Menu Hack:** Add a 4th option (*Settings*) to `Menu.java` and update `optionCount` accordingly.  \n",
    "4. **Challenge:** Use `System.out.printf` to print Pi with 2 decimals.\n"
   ]
  },
  {
   "cell_type": "code",
   "execution_count": null,
   "id": "a1d57825",
   "metadata": {
    "language": "java"
   },
   "outputs": [],
   "source": [
    "System.out.print(\"AP \");\n",
    "System.out.println(\"CSA\");\n",
    "System.out.println(\"Rocks!\");\n",
    "\n",
    "System.out.println(\"C:\\\\Users\\\\Student\");\n",
    "\n",
    "System.out.printf(\"Pi = %.2f\\n\", Math.PI);\n"
   ]
  },
  {
   "cell_type": "markdown",
   "id": "16a51462",
   "metadata": {},
   "source": [
    "## Homework Hack 2\n",
    "\n",
    "Expand `Menu.java` into a **calculator menu**:\n",
    "\n",
    "1. Print a menu with options: *Add*, *Subtract*, *Multiply*, *Divide*  \n",
    "2. Ask the user for two numbers  \n",
    "3. Use arithmetic expressions to compute and display the result  \n",
    "\n",
    "**Example Run:**  \n",
    "```\n",
    "==== Calculator Menu ====\n",
    "1. Add\n",
    "2. Subtract\n",
    "3. Multiply\n",
    "4. Divide\n",
    "Choose an option: 1\n",
    "Enter first number: 10\n",
    "Enter second number: 5\n",
    "Result: 15\n",
    "```\n"
   ]
  },
  {
   "cell_type": "code",
   "execution_count": null,
   "id": "7eb235f1",
   "metadata": {
    "language": "java"
   },
   "outputs": [],
   "source": [
    "import java.util.Scanner;\n",
    "\n",
    "public class CalculatorMenu {\n",
    "    public static void main(String[] args) {\n",
    "        Scanner input = new Scanner(System.in);\n",
    "\n",
    "        System.out.println(\"==== Calculator Menu ====\");\n",
    "        System.out.println(\"1. Add\");\n",
    "        System.out.println(\"2. Subtract\");\n",
    "        System.out.println(\"3. Multiply\");\n",
    "        System.out.println(\"4. Divide\");\n",
    "\n",
    "        System.out.print(\"Choose an option: \");\n",
    "        int option = input.nextInt();\n",
    "\n",
    "        System.out.print(\"Enter first number: \");\n",
    "        double num1 = input.nextDouble();\n",
    "\n",
    "        System.out.print(\"Enter second number: \");\n",
    "        double num2 = input.nextDouble();\n",
    "\n",
    "        double result = 0;\n",
    "\n",
    "        if (option == 1) result = num1 + num2;\n",
    "        else if (option == 2) result = num1 - num2;\n",
    "        else if (option == 3) result = num1 * num2;\n",
    "        else if (option == 4) {\n",
    "            if (num2 != 0) result = num1 / num2;\n",
    "            else {\n",
    "                System.out.println(\"Error: Cannot divide by zero.\");\n",
    "                input.close();\n",
    "                return;\n",
    "            }\n",
    "        } else {\n",
    "            System.out.println(\"Invalid option.\");\n",
    "            input.close();\n",
    "            return;\n",
    "        }\n",
    "\n",
    "        System.out.println(\"Result: \" + result);\n",
    "        input.close();\n",
    "    }\n",
    "}\n"
   ]
  }
 ],
 "metadata": {},
 "nbformat": 4,
 "nbformat_minor": 5
}
